{
 "cells": [
  {
   "cell_type": "markdown",
   "metadata": {},
   "source": [
    "# Загрузка Pandas и очистка данных"
   ]
  },
  {
   "cell_type": "code",
   "execution_count": 1,
   "metadata": {},
   "outputs": [],
   "source": [
    "import pandas as pd\n",
    "import matplotlib.pyplot as plt\n",
    "import seaborn as sns"
   ]
  },
  {
   "cell_type": "code",
   "execution_count": 2,
   "metadata": {},
   "outputs": [
    {
     "data": {
      "text/html": [
       "<div>\n",
       "<style scoped>\n",
       "    .dataframe tbody tr th:only-of-type {\n",
       "        vertical-align: middle;\n",
       "    }\n",
       "\n",
       "    .dataframe tbody tr th {\n",
       "        vertical-align: top;\n",
       "    }\n",
       "\n",
       "    .dataframe thead th {\n",
       "        text-align: right;\n",
       "    }\n",
       "</style>\n",
       "<table border=\"1\" class=\"dataframe\">\n",
       "  <thead>\n",
       "    <tr style=\"text-align: right;\">\n",
       "      <th></th>\n",
       "      <th>Restaurant_id</th>\n",
       "      <th>City</th>\n",
       "      <th>Cuisine Style</th>\n",
       "      <th>Ranking</th>\n",
       "      <th>Rating</th>\n",
       "      <th>Price Range</th>\n",
       "      <th>Number of Reviews</th>\n",
       "      <th>Reviews</th>\n",
       "      <th>URL_TA</th>\n",
       "      <th>ID_TA</th>\n",
       "    </tr>\n",
       "  </thead>\n",
       "  <tbody>\n",
       "    <tr>\n",
       "      <th>0</th>\n",
       "      <td>id_5569</td>\n",
       "      <td>Paris</td>\n",
       "      <td>['European', 'French', 'International']</td>\n",
       "      <td>5570.0</td>\n",
       "      <td>3.5</td>\n",
       "      <td>$$ - $$$</td>\n",
       "      <td>194.0</td>\n",
       "      <td>[['Good food at your doorstep', 'A good hotel ...</td>\n",
       "      <td>/Restaurant_Review-g187147-d1912643-Reviews-R_...</td>\n",
       "      <td>d1912643</td>\n",
       "    </tr>\n",
       "    <tr>\n",
       "      <th>1</th>\n",
       "      <td>id_1535</td>\n",
       "      <td>Stockholm</td>\n",
       "      <td>NaN</td>\n",
       "      <td>1537.0</td>\n",
       "      <td>4.0</td>\n",
       "      <td>NaN</td>\n",
       "      <td>10.0</td>\n",
       "      <td>[['Unique cuisine', 'Delicious Nepalese food']...</td>\n",
       "      <td>/Restaurant_Review-g189852-d7992032-Reviews-Bu...</td>\n",
       "      <td>d7992032</td>\n",
       "    </tr>\n",
       "    <tr>\n",
       "      <th>2</th>\n",
       "      <td>id_352</td>\n",
       "      <td>London</td>\n",
       "      <td>['Japanese', 'Sushi', 'Asian', 'Grill', 'Veget...</td>\n",
       "      <td>353.0</td>\n",
       "      <td>4.5</td>\n",
       "      <td>$$$$</td>\n",
       "      <td>688.0</td>\n",
       "      <td>[['Catch up with friends', 'Not exceptional'],...</td>\n",
       "      <td>/Restaurant_Review-g186338-d8632781-Reviews-RO...</td>\n",
       "      <td>d8632781</td>\n",
       "    </tr>\n",
       "    <tr>\n",
       "      <th>3</th>\n",
       "      <td>id_3456</td>\n",
       "      <td>Berlin</td>\n",
       "      <td>NaN</td>\n",
       "      <td>3458.0</td>\n",
       "      <td>5.0</td>\n",
       "      <td>NaN</td>\n",
       "      <td>3.0</td>\n",
       "      <td>[[], []]</td>\n",
       "      <td>/Restaurant_Review-g187323-d1358776-Reviews-Es...</td>\n",
       "      <td>d1358776</td>\n",
       "    </tr>\n",
       "    <tr>\n",
       "      <th>4</th>\n",
       "      <td>id_615</td>\n",
       "      <td>Munich</td>\n",
       "      <td>['German', 'Central European', 'Vegetarian Fri...</td>\n",
       "      <td>621.0</td>\n",
       "      <td>4.0</td>\n",
       "      <td>$$ - $$$</td>\n",
       "      <td>84.0</td>\n",
       "      <td>[['Best place to try a Bavarian food', 'Nice b...</td>\n",
       "      <td>/Restaurant_Review-g187309-d6864963-Reviews-Au...</td>\n",
       "      <td>d6864963</td>\n",
       "    </tr>\n",
       "  </tbody>\n",
       "</table>\n",
       "</div>"
      ],
      "text/plain": [
       "  Restaurant_id       City                                      Cuisine Style  \\\n",
       "0       id_5569      Paris            ['European', 'French', 'International']   \n",
       "1       id_1535  Stockholm                                                NaN   \n",
       "2        id_352     London  ['Japanese', 'Sushi', 'Asian', 'Grill', 'Veget...   \n",
       "3       id_3456     Berlin                                                NaN   \n",
       "4        id_615     Munich  ['German', 'Central European', 'Vegetarian Fri...   \n",
       "\n",
       "   Ranking  Rating Price Range  Number of Reviews  \\\n",
       "0   5570.0     3.5    $$ - $$$              194.0   \n",
       "1   1537.0     4.0         NaN               10.0   \n",
       "2    353.0     4.5        $$$$              688.0   \n",
       "3   3458.0     5.0         NaN                3.0   \n",
       "4    621.0     4.0    $$ - $$$               84.0   \n",
       "\n",
       "                                             Reviews  \\\n",
       "0  [['Good food at your doorstep', 'A good hotel ...   \n",
       "1  [['Unique cuisine', 'Delicious Nepalese food']...   \n",
       "2  [['Catch up with friends', 'Not exceptional'],...   \n",
       "3                                           [[], []]   \n",
       "4  [['Best place to try a Bavarian food', 'Nice b...   \n",
       "\n",
       "                                              URL_TA     ID_TA  \n",
       "0  /Restaurant_Review-g187147-d1912643-Reviews-R_...  d1912643  \n",
       "1  /Restaurant_Review-g189852-d7992032-Reviews-Bu...  d7992032  \n",
       "2  /Restaurant_Review-g186338-d8632781-Reviews-RO...  d8632781  \n",
       "3  /Restaurant_Review-g187323-d1358776-Reviews-Es...  d1358776  \n",
       "4  /Restaurant_Review-g187309-d6864963-Reviews-Au...  d6864963  "
      ]
     },
     "execution_count": 2,
     "metadata": {},
     "output_type": "execute_result"
    }
   ],
   "source": [
    "df = pd.read_csv('main_task.csv')\n",
    "df.head()"
   ]
  },
  {
   "cell_type": "markdown",
   "metadata": {},
   "source": [
    "# Рассмотрим название столбцов"
   ]
  },
  {
   "cell_type": "code",
   "execution_count": 3,
   "metadata": {},
   "outputs": [
    {
     "data": {
      "text/plain": [
       "Index(['Restaurant_id', 'City', 'Cuisine Style', 'Ranking', 'Rating',\n",
       "       'Price Range', 'Number of Reviews', 'Reviews', 'URL_TA', 'ID_TA'],\n",
       "      dtype='object')"
      ]
     },
     "execution_count": 3,
     "metadata": {},
     "output_type": "execute_result"
    }
   ],
   "source": [
    "df.columns"
   ]
  },
  {
   "cell_type": "markdown",
   "metadata": {},
   "source": [
    "# Рассмотрим столбцы"
   ]
  },
  {
   "cell_type": "code",
   "execution_count": 4,
   "metadata": {},
   "outputs": [
    {
     "name": "stdout",
     "output_type": "stream",
     "text": [
      "<class 'pandas.core.frame.DataFrame'>\n",
      "RangeIndex: 40000 entries, 0 to 39999\n",
      "Data columns (total 10 columns):\n",
      " #   Column             Non-Null Count  Dtype  \n",
      "---  ------             --------------  -----  \n",
      " 0   Restaurant_id      40000 non-null  object \n",
      " 1   City               40000 non-null  object \n",
      " 2   Cuisine Style      30717 non-null  object \n",
      " 3   Ranking            40000 non-null  float64\n",
      " 4   Rating             40000 non-null  float64\n",
      " 5   Price Range        26114 non-null  object \n",
      " 6   Number of Reviews  37457 non-null  float64\n",
      " 7   Reviews            40000 non-null  object \n",
      " 8   URL_TA             40000 non-null  object \n",
      " 9   ID_TA              40000 non-null  object \n",
      "dtypes: float64(3), object(7)\n",
      "memory usage: 3.1+ MB\n"
     ]
    }
   ],
   "source": [
    "df.info()"
   ]
  },
  {
   "cell_type": "markdown",
   "metadata": {},
   "source": [
    "Выводы: данные заполнены не по всем столбцам. Всего 3 столбца с данными типа float64"
   ]
  },
  {
   "cell_type": "markdown",
   "metadata": {},
   "source": [
    "## Начнет рассмотрение столбцов"
   ]
  },
  {
   "cell_type": "markdown",
   "metadata": {},
   "source": [
    "# 1.Restaurant_id\n",
    " идентификационный номер ресторана / сети ресторанов"
   ]
  },
  {
   "cell_type": "code",
   "execution_count": 5,
   "metadata": {},
   "outputs": [
    {
     "data": {
      "text/plain": [
       "id_436      18\n",
       "id_227      18\n",
       "id_871      18\n",
       "id_633      18\n",
       "id_71       17\n",
       "            ..\n",
       "id_15831     1\n",
       "id_15019     1\n",
       "id_11473     1\n",
       "id_9157      1\n",
       "id_10462     1\n",
       "Name: Restaurant_id, Length: 11909, dtype: int64"
      ]
     },
     "execution_count": 5,
     "metadata": {},
     "output_type": "execute_result"
    }
   ],
   "source": [
    "df['Restaurant_id'].value_counts()"
   ]
  },
  {
   "cell_type": "code",
   "execution_count": 6,
   "metadata": {},
   "outputs": [
    {
     "data": {
      "text/plain": [
       "count      40000\n",
       "unique     11909\n",
       "top       id_436\n",
       "freq          18\n",
       "Name: Restaurant_id, dtype: object"
      ]
     },
     "execution_count": 6,
     "metadata": {},
     "output_type": "execute_result"
    }
   ],
   "source": [
    "df['Restaurant_id'].describe()"
   ]
  },
  {
   "cell_type": "markdown",
   "metadata": {},
   "source": [
    "Есть повторяющиеся id. Сетевые рестораны"
   ]
  },
  {
   "cell_type": "code",
   "execution_count": 7,
   "metadata": {},
   "outputs": [],
   "source": [
    "df['Restaurant_id_new'] = df['Restaurant_id'].apply(lambda x: x[3:]) # уберем первые буквы, для использования в модели "
   ]
  },
  {
   "cell_type": "code",
   "execution_count": 8,
   "metadata": {},
   "outputs": [],
   "source": [
    "df['Restaurant_id_new'] = df['Restaurant_id_new'].astype(float)"
   ]
  },
  {
   "cell_type": "markdown",
   "metadata": {},
   "source": [
    "# 2.Cuisine Style\n",
    "кухня или кухни, к которым можно отнести блюда, предлагаемые в ресторане"
   ]
  },
  {
   "cell_type": "code",
   "execution_count": 9,
   "metadata": {},
   "outputs": [
    {
     "data": {
      "text/plain": [
       "['Italian']                                                  1032\n",
       "['French']                                                    805\n",
       "['Spanish']                                                   695\n",
       "['French', 'European']                                        405\n",
       "['Cafe']                                                      403\n",
       "                                                             ... \n",
       "['Wine Bar', 'Brew Pub']                                        1\n",
       "['Sushi', 'Asian', 'Japanese', 'Fast Food', 'Thai']             1\n",
       "['Irish', 'Bar', 'Gastropub']                                   1\n",
       "['Bar', 'European', 'Pub', 'Swedish']                           1\n",
       "['American', 'Pizza', 'Fast Food', 'Vegetarian Friendly']       1\n",
       "Name: Cuisine Style, Length: 9007, dtype: int64"
      ]
     },
     "execution_count": 9,
     "metadata": {},
     "output_type": "execute_result"
    }
   ],
   "source": [
    "df['Cuisine Style'].value_counts()"
   ]
  },
  {
   "cell_type": "markdown",
   "metadata": {},
   "source": [
    "cамая популярная кухня Итальянская"
   ]
  },
  {
   "cell_type": "code",
   "execution_count": 10,
   "metadata": {},
   "outputs": [
    {
     "data": {
      "text/plain": [
       "count           30717\n",
       "unique           9007\n",
       "top       ['Italian']\n",
       "freq             1032\n",
       "Name: Cuisine Style, dtype: object"
      ]
     },
     "execution_count": 10,
     "metadata": {},
     "output_type": "execute_result"
    }
   ],
   "source": [
    "df['Cuisine Style'].describe()"
   ]
  },
  {
   "cell_type": "code",
   "execution_count": 11,
   "metadata": {},
   "outputs": [],
   "source": [
    "df['Cuisine Style'] = df['Cuisine Style'].fillna('No_answer') # заменяем пустные значения на \"без ответа\" "
   ]
  },
  {
   "cell_type": "code",
   "execution_count": 12,
   "metadata": {},
   "outputs": [],
   "source": [
    "def count_cuisine(x): # фунцкия считающая количество видов кухонь в ресторане\n",
    "    x = x.replace('[','')\n",
    "    x = x.replace(']', '')\n",
    "    x = x.strip()\n",
    "    x = [style.strip() for style in x.split(',')]\n",
    "    x = [style for style in x if len(style) > 0]\n",
    "    return len(x)"
   ]
  },
  {
   "cell_type": "code",
   "execution_count": 13,
   "metadata": {},
   "outputs": [],
   "source": [
    "df['number_cuisine'] = df['Cuisine Style'].apply(count_cuisine)"
   ]
  },
  {
   "cell_type": "code",
   "execution_count": 14,
   "metadata": {},
   "outputs": [
    {
     "data": {
      "text/plain": [
       "0    3\n",
       "1    1\n",
       "2    7\n",
       "3    1\n",
       "4    3\n",
       "5    1\n",
       "6    2\n",
       "7    1\n",
       "8    1\n",
       "9    3\n",
       "Name: number_cuisine, dtype: int64"
      ]
     },
     "execution_count": 14,
     "metadata": {},
     "output_type": "execute_result"
    }
   ],
   "source": [
    "df['number_cuisine'].head(10)"
   ]
  },
  {
   "cell_type": "code",
   "execution_count": 15,
   "metadata": {},
   "outputs": [
    {
     "data": {
      "text/plain": [
       "<matplotlib.axes._subplots.AxesSubplot at 0xd424b2d588>"
      ]
     },
     "execution_count": 15,
     "metadata": {},
     "output_type": "execute_result"
    },
    {
     "data": {
      "image/png": "[encoded data removed]",
      "text/plain": [
       "<Figure size 432x288 with 1 Axes>"
      ]
     },
     "metadata": {
      "needs_background": "light"
     },
     "output_type": "display_data"
    }
   ],
   "source": [
    "df['number_cuisine'].hist()"
   ]
  },
  {
   "cell_type": "code",
   "execution_count": 16,
   "metadata": {},
   "outputs": [
    {
     "data": {
      "text/plain": [
       "count    40000.000000\n",
       "mean         2.622400\n",
       "std          1.817292\n",
       "min          1.000000\n",
       "25%          1.000000\n",
       "50%          2.000000\n",
       "75%          4.000000\n",
       "max         21.000000\n",
       "Name: number_cuisine, dtype: float64"
      ]
     },
     "execution_count": 16,
     "metadata": {},
     "output_type": "execute_result"
    }
   ],
   "source": [
    "df['number_cuisine'].describe()"
   ]
  },
  {
   "cell_type": "markdown",
   "metadata": {},
   "source": [
    "большинство ресторанов имеет 2 кухни. Заполним пустоты этим значением"
   ]
  },
  {
   "cell_type": "code",
   "execution_count": 17,
   "metadata": {},
   "outputs": [],
   "source": [
    "df['number_cuisine'] = df['number_cuisine'].replace('No_answer', '2')"
   ]
  },
  {
   "cell_type": "code",
   "execution_count": 18,
   "metadata": {},
   "outputs": [
    {
     "data": {
      "text/plain": [
       "count    40000.000000\n",
       "mean         2.622400\n",
       "std          1.817292\n",
       "min          1.000000\n",
       "25%          1.000000\n",
       "50%          2.000000\n",
       "75%          4.000000\n",
       "max         21.000000\n",
       "Name: number_cuisine, dtype: float64"
      ]
     },
     "execution_count": 18,
     "metadata": {},
     "output_type": "execute_result"
    }
   ],
   "source": [
    "df['number_cuisine'].describe()"
   ]
  },
  {
   "cell_type": "markdown",
   "metadata": {},
   "source": [
    "рассмотрим границы выбросов"
   ]
  },
  {
   "cell_type": "code",
   "execution_count": 19,
   "metadata": {},
   "outputs": [
    {
     "name": "stdout",
     "output_type": "stream",
     "text": [
      "25-й перцентиль: 1.0, 75-й перцентиль: 4.0, IQR: 3.0,  Границы выбросов: [-3.5, 8.5].\n"
     ]
    }
   ],
   "source": [
    "median = df['number_cuisine'].median()\n",
    "IQR = df['number_cuisine'].quantile(0.75) - df['number_cuisine'].quantile(0.25)\n",
    "perc25 = df['number_cuisine'].quantile(0.25)\n",
    "perc75 = df['number_cuisine'].quantile(0.75)\n",
    "print('25-й перцентиль: {},'.format(perc25), '75-й перцентиль: {},'.format(perc75)\n",
    "      , \"IQR: {}, \".format(IQR),\"Границы выбросов: [{f}, {l}].\".format(f=perc25 - 1.5*IQR, l=perc75 + 1.5*IQR))"
   ]
  },
  {
   "cell_type": "code",
   "execution_count": 20,
   "metadata": {},
   "outputs": [
    {
     "data": {
      "text/plain": [
       "100"
      ]
     },
     "execution_count": 20,
     "metadata": {},
     "output_type": "execute_result"
    }
   ],
   "source": [
    "(df['number_cuisine']>8.5).sum()"
   ]
  },
  {
   "cell_type": "markdown",
   "metadata": {},
   "source": [
    "число выбросов не значительно, 100 штук. Не будем удалять данную информацию, в жизни всё может быть"
   ]
  },
  {
   "cell_type": "markdown",
   "metadata": {},
   "source": [
    "# 3.Price Range\n",
    "диапазон цен в ресторане"
   ]
  },
  {
   "cell_type": "code",
   "execution_count": 21,
   "metadata": {},
   "outputs": [
    {
     "data": {
      "text/plain": [
       "$$ - $$$    18412\n",
       "$            6279\n",
       "$$$$         1423\n",
       "Name: Price Range, dtype: int64"
      ]
     },
     "execution_count": 21,
     "metadata": {},
     "output_type": "execute_result"
    }
   ],
   "source": [
    "df['Price Range'].value_counts()"
   ]
  },
  {
   "cell_type": "markdown",
   "metadata": {},
   "source": [
    "большинство ресторанов имеет средний диапазон цен. Применим к пустым значениям этот диапазон"
   ]
  },
  {
   "cell_type": "code",
   "execution_count": 22,
   "metadata": {},
   "outputs": [],
   "source": [
    "df['Price Range'] = df['Price Range'].fillna('$$ - $$$') # заменяем пустные значения"
   ]
  },
  {
   "cell_type": "code",
   "execution_count": 23,
   "metadata": {},
   "outputs": [],
   "source": [
    "def price(x): # функция заменяющая обозначения градацией цен\n",
    "        x = x.replace('$$ - $$$', '2')\n",
    "        x = x.replace('$$$$', '3')\n",
    "        x = x.replace('$', '1')\n",
    "        return x"
   ]
  },
  {
   "cell_type": "code",
   "execution_count": 24,
   "metadata": {},
   "outputs": [
    {
     "data": {
      "text/plain": [
       "2    32298\n",
       "1     6279\n",
       "3     1423\n",
       "Name: price_new, dtype: int64"
      ]
     },
     "execution_count": 24,
     "metadata": {},
     "output_type": "execute_result"
    }
   ],
   "source": [
    "df['price_new'] = df['Price Range'].apply(price)\n",
    "df['price_new'].value_counts()"
   ]
  },
  {
   "cell_type": "code",
   "execution_count": 25,
   "metadata": {},
   "outputs": [],
   "source": [
    "df['price_new'] = df['price_new'].astype(int)"
   ]
  },
  {
   "cell_type": "code",
   "execution_count": 26,
   "metadata": {},
   "outputs": [
    {
     "data": {
      "text/plain": [
       "<matplotlib.axes._subplots.AxesSubplot at 0xd425b5a308>"
      ]
     },
     "execution_count": 26,
     "metadata": {},
     "output_type": "execute_result"
    },
    {
     "data": {
      "image/png": "[encoded data removed]",
      "text/plain": [
       "<Figure size 432x288 with 1 Axes>"
      ]
     },
     "metadata": {
      "needs_background": "light"
     },
     "output_type": "display_data"
    }
   ],
   "source": [
    "df['price_new'].hist()"
   ]
  },
  {
   "cell_type": "markdown",
   "metadata": {},
   "source": [
    "большинство ресторанов со средним ценовым позиционированием"
   ]
  },
  {
   "cell_type": "markdown",
   "metadata": {},
   "source": [
    "# 4. Reviews. Дельта по датам\n",
    "данные о двух отзывах, которые отображаются на сайте ресторана"
   ]
  },
  {
   "cell_type": "code",
   "execution_count": 27,
   "metadata": {},
   "outputs": [
    {
     "data": {
      "text/plain": [
       "[[], []]                                                                                                                6471\n",
       "[['The real codido madrileño'], ['03/31/2017']]                                                                            2\n",
       "[['ok for beer, not for dinner'], ['12/20/2017']]                                                                          2\n",
       "[['Nice restaurant in Madrid', 'Highly reccomended'], ['11/10/2017', '05/21/2017']]                                        2\n",
       "[['Sat night', 'Can\\'t even explain.. \"A\" place.. A \"100...'], ['10/22/2017', '05/11/2017']]                               2\n",
       "                                                                                                                        ... \n",
       "[['hard to find but good once you get there', 'Cozy but limited menu'], ['06/15/2017', '09/26/2017']]                      1\n",
       "[['Nice, small restaurant, hard to find :)', 'Authentic Polish food in a cozy place'], ['12/23/2017', '12/10/2017']]       1\n",
       "[['Lovely place to sit and sip a wine while w...', 'Positive experience'], ['07/13/2017', '04/16/2017']]                   1\n",
       "[['Best sausage in London', 'Lovely Brunch'], ['04/10/2017', '02/05/2017']]                                                1\n",
       "[['Excellent food and drink in Vienna', 'Verry good traditional austrian restaurant'], ['12/25/2016', '02/25/2016']]       1\n",
       "Name: Reviews, Length: 33516, dtype: int64"
      ]
     },
     "execution_count": 27,
     "metadata": {},
     "output_type": "execute_result"
    }
   ],
   "source": [
    "df['Reviews'].value_counts()"
   ]
  },
  {
   "cell_type": "markdown",
   "metadata": {},
   "source": [
    "пустых отзывов много. Посчитаем разницу между этими отзывами"
   ]
  },
  {
   "cell_type": "code",
   "execution_count": 28,
   "metadata": {},
   "outputs": [],
   "source": [
    "def date_Reviews(x): # вытащим даты отзывов в отдельные столбцы и посчитаем разницу\n",
    "    if x == '[[], []]':\n",
    "        return []\n",
    "    else:\n",
    "        x = x.replace(']]', '')\n",
    "        x = x.replace(\"'\", '')\n",
    "        x = x.split('], [')[1]\n",
    "        x = x.split(', ')\n",
    "        return x"
   ]
  },
  {
   "cell_type": "code",
   "execution_count": 29,
   "metadata": {},
   "outputs": [],
   "source": [
    "df['Dates of Reviews'] = df['Reviews'].apply(date_Reviews) # создадим 2 столбца: первый и последний отзыв\n",
    "df[['Date_last', 'Date_first']] = pd.DataFrame(df['Dates of Reviews'].tolist()) "
   ]
  },
  {
   "cell_type": "code",
   "execution_count": 30,
   "metadata": {},
   "outputs": [
    {
     "data": {
      "text/plain": [
       "01/07/2018    486\n",
       "01/03/2018    433\n",
       "01/06/2018    396\n",
       "01/08/2018    377\n",
       "01/05/2018    366\n",
       "             ... \n",
       "06/17/2012      1\n",
       "05/18/2010      1\n",
       "10/22/2011      1\n",
       "02/17/2013      1\n",
       "10/22/2010      1\n",
       "Name: Date_last, Length: 1880, dtype: int64"
      ]
     },
     "execution_count": 30,
     "metadata": {},
     "output_type": "execute_result"
    }
   ],
   "source": [
    "df['Date_last'].value_counts()"
   ]
  },
  {
   "cell_type": "code",
   "execution_count": 31,
   "metadata": {},
   "outputs": [
    {
     "data": {
      "text/plain": [
       "01/03/2018    194\n",
       "12/30/2017    174\n",
       "01/04/2018    167\n",
       "01/01/2018    166\n",
       "12/22/2017    156\n",
       "             ... \n",
       "03/31/2014      1\n",
       "05/19/2013      1\n",
       "10/31/2012      1\n",
       "06/11/2012      1\n",
       "03/31/2011      1\n",
       "Name: Date_first, Length: 1951, dtype: int64"
      ]
     },
     "execution_count": 31,
     "metadata": {},
     "output_type": "execute_result"
    }
   ],
   "source": [
    "df['Date_first'].value_counts()"
   ]
  },
  {
   "cell_type": "code",
   "execution_count": 32,
   "metadata": {},
   "outputs": [],
   "source": [
    "df['Date_last'] = df['Date_last'].fillna('01/07/2018') # заменим пустные значения самыми часто встречаемыми\n",
    "df['Date_first'] = df['Date_first'].fillna('01/03/2018')"
   ]
  },
  {
   "cell_type": "code",
   "execution_count": 33,
   "metadata": {},
   "outputs": [],
   "source": [
    "df['Date_last'] = pd.to_datetime(df['Date_last'])\n",
    "df['Date_first'] = pd.to_datetime(df['Date_first'])"
   ]
  },
  {
   "cell_type": "code",
   "execution_count": 34,
   "metadata": {},
   "outputs": [
    {
     "data": {
      "text/plain": [
       "0    41 days\n",
       "1   382 days\n",
       "2     2 days\n",
       "3     4 days\n",
       "4   272 days\n",
       "5   108 days\n",
       "6   -93 days\n",
       "7   613 days\n",
       "8     4 days\n",
       "9   225 days\n",
       "Name: Timedelta, dtype: timedelta64[ns]"
      ]
     },
     "execution_count": 34,
     "metadata": {},
     "output_type": "execute_result"
    }
   ],
   "source": [
    "df['Timedelta'] = df.apply(lambda x: x['Date_last'] - x['Date_first'], axis = 1)\n",
    "df['Timedelta'].head(10)"
   ]
  },
  {
   "cell_type": "code",
   "execution_count": 35,
   "metadata": {},
   "outputs": [],
   "source": [
    "def zero(x):\n",
    "    x = x.replace('-', '')\n",
    "    return x"
   ]
  },
  {
   "cell_type": "code",
   "execution_count": 36,
   "metadata": {},
   "outputs": [],
   "source": [
    "df['Timedelta'] = df['Timedelta'].astype(str)"
   ]
  },
  {
   "cell_type": "code",
   "execution_count": 37,
   "metadata": {},
   "outputs": [],
   "source": [
    "df['Timedelta_new'] = df['Timedelta'].apply(zero)"
   ]
  },
  {
   "cell_type": "code",
   "execution_count": 38,
   "metadata": {},
   "outputs": [
    {
     "data": {
      "text/plain": [
       "0     41 days 00:00:00.000000000\n",
       "1    382 days 00:00:00.000000000\n",
       "2      2 days 00:00:00.000000000\n",
       "3      4 days 00:00:00.000000000\n",
       "4    272 days 00:00:00.000000000\n",
       "5    108 days 00:00:00.000000000\n",
       "6    93 days +00:00:00.000000000\n",
       "7    613 days 00:00:00.000000000\n",
       "8      4 days 00:00:00.000000000\n",
       "9    225 days 00:00:00.000000000\n",
       "Name: Timedelta_new, dtype: object"
      ]
     },
     "execution_count": 38,
     "metadata": {},
     "output_type": "execute_result"
    }
   ],
   "source": [
    "df['Timedelta_new'].head(10)"
   ]
  },
  {
   "cell_type": "code",
   "execution_count": 39,
   "metadata": {},
   "outputs": [],
   "source": [
    "df['Timedelta_new'] = df['Timedelta_new'].apply(lambda x: x.replace('00:00:00.000000000', ''))  \n",
    "df['Timedelta_new'] = df['Timedelta_new'].apply(lambda x: x.replace(' days', '')) \n",
    "df['Timedelta_new'] = df['Timedelta_new'].apply(lambda x: x.replace(' +', '')) \n",
    "df['Timedelta_new'] = df['Timedelta_new'].apply(lambda x: x.replace(' ', '')) "
   ]
  },
  {
   "cell_type": "code",
   "execution_count": 40,
   "metadata": {},
   "outputs": [
    {
     "data": {
      "text/plain": [
       "0     41\n",
       "1    382\n",
       "2      2\n",
       "3      4\n",
       "4    272\n",
       "5    108\n",
       "6     93\n",
       "7    613\n",
       "8      4\n",
       "9    225\n",
       "Name: Timedelta_new, dtype: object"
      ]
     },
     "execution_count": 40,
     "metadata": {},
     "output_type": "execute_result"
    }
   ],
   "source": [
    "df['Timedelta_new'].head(10)"
   ]
  },
  {
   "cell_type": "code",
   "execution_count": 41,
   "metadata": {},
   "outputs": [],
   "source": [
    "df['Timedelta_new'] = df['Timedelta_new'].astype(float) "
   ]
  },
  {
   "cell_type": "code",
   "execution_count": 42,
   "metadata": {},
   "outputs": [
    {
     "data": {
      "text/plain": [
       "count    40000.000000\n",
       "mean       170.724500\n",
       "std        315.959283\n",
       "min          0.000000\n",
       "25%          7.000000\n",
       "50%         55.000000\n",
       "75%        185.000000\n",
       "max       5005.000000\n",
       "Name: Timedelta_new, dtype: float64"
      ]
     },
     "execution_count": 42,
     "metadata": {},
     "output_type": "execute_result"
    }
   ],
   "source": [
    "df['Timedelta_new'].describe()"
   ]
  },
  {
   "cell_type": "code",
   "execution_count": 43,
   "metadata": {},
   "outputs": [
    {
     "data": {
      "text/plain": [
       "<matplotlib.axes._subplots.AxesSubplot at 0xd426e49588>"
      ]
     },
     "execution_count": 43,
     "metadata": {},
     "output_type": "execute_result"
    },
    {
     "data": {
      "image/png": "[encoded data removed]",
      "text/plain": [
       "<Figure size 432x288 with 1 Axes>"
      ]
     },
     "metadata": {
      "needs_background": "light"
     },
     "output_type": "display_data"
    }
   ],
   "source": [
    "df['Timedelta_new'].hist()"
   ]
  },
  {
   "cell_type": "markdown",
   "metadata": {},
   "source": [
    "самое втречаемое значение разницы в днях между отзывами 55 дней"
   ]
  },
  {
   "cell_type": "markdown",
   "metadata": {},
   "source": [
    "# 5.Reviews. Тональность в отзывах"
   ]
  },
  {
   "cell_type": "markdown",
   "metadata": {},
   "source": [
    "предполагаю, что тональность отзыва отражает рейтинг ресторана"
   ]
  },
  {
   "cell_type": "code",
   "execution_count": 44,
   "metadata": {},
   "outputs": [],
   "source": [
    "df['Reviews'] = df['Reviews'].apply(lambda x: x.lower()) # делаем регистр одинаковым для удобства поиска ключевых слов"
   ]
  },
  {
   "cell_type": "code",
   "execution_count": 45,
   "metadata": {},
   "outputs": [],
   "source": [
    "words_good = ['good','great','best','wonderful','nice','excellent'] # 3-положительный, 2-нейтральный, 1-отрицательный отзыв\n",
    "words_bad = ['disappointing','overpriced','bad','horrible','grumpiest','awful']\n",
    "def find_word(cell):\n",
    "    if cell is not None:\n",
    "        for word in words_good:\n",
    "            if word in cell:\n",
    "                return 3\n",
    "        for word in words_bad:\n",
    "            if word in cell:\n",
    "                return 1\n",
    "    return 2 # если пустные, то ставим 2. считаем что отзыв нейтральный"
   ]
  },
  {
   "cell_type": "code",
   "execution_count": 46,
   "metadata": {},
   "outputs": [
    {
     "data": {
      "text/plain": [
       "3    20671\n",
       "2    18640\n",
       "1      689\n",
       "Name: reviews_sense, dtype: int64"
      ]
     },
     "execution_count": 46,
     "metadata": {},
     "output_type": "execute_result"
    }
   ],
   "source": [
    "df['reviews_sense'] = df['Reviews'].apply(find_word)\n",
    "df['reviews_sense'].value_counts()"
   ]
  },
  {
   "cell_type": "markdown",
   "metadata": {},
   "source": [
    "ресторанов с положительными отзывовами больше всего"
   ]
  },
  {
   "cell_type": "markdown",
   "metadata": {},
   "source": [
    "# 6.City \n",
    "город, в котором находится ресторан"
   ]
  },
  {
   "cell_type": "code",
   "execution_count": 47,
   "metadata": {},
   "outputs": [
    {
     "data": {
      "text/plain": [
       "London        5757\n",
       "Paris         4897\n",
       "Madrid        3108\n",
       "Barcelona     2734\n",
       "Berlin        2155\n",
       "Milan         2133\n",
       "Rome          2078\n",
       "Prague        1443\n",
       "Lisbon        1300\n",
       "Vienna        1166\n",
       "Amsterdam     1086\n",
       "Brussels      1060\n",
       "Hamburg        949\n",
       "Munich         893\n",
       "Lyon           892\n",
       "Stockholm      820\n",
       "Budapest       816\n",
       "Warsaw         727\n",
       "Dublin         673\n",
       "Copenhagen     659\n",
       "Athens         628\n",
       "Edinburgh      596\n",
       "Zurich         538\n",
       "Oporto         513\n",
       "Geneva         481\n",
       "Krakow         443\n",
       "Oslo           385\n",
       "Helsinki       376\n",
       "Bratislava     301\n",
       "Luxembourg     210\n",
       "Ljubljana      183\n",
       "Name: City, dtype: int64"
      ]
     },
     "execution_count": 47,
     "metadata": {},
     "output_type": "execute_result"
    }
   ],
   "source": [
    "df['City'].value_counts()"
   ]
  },
  {
   "cell_type": "markdown",
   "metadata": {},
   "source": [
    "больше всего ресторанов в Лондоне. Чтобы использовать данный параметр в модели перевернем в столбцы города"
   ]
  },
  {
   "cell_type": "code",
   "execution_count": 48,
   "metadata": {},
   "outputs": [
    {
     "name": "stdout",
     "output_type": "stream",
     "text": [
      "{'Geneva', 'Hamburg', 'Berlin', 'Lyon', 'Copenhagen', 'Krakow', 'Madrid', 'Oslo', 'Dublin', 'London', 'Paris', 'Bratislava', 'Budapest', 'Rome', 'Stockholm', 'Zurich', 'Oporto', 'Edinburgh', 'Helsinki', 'Lisbon', 'Prague', 'Barcelona', 'Warsaw', 'Amsterdam', 'Munich', 'Ljubljana', 'Athens', 'Brussels', 'Luxembourg', 'Milan', 'Vienna'}\n"
     ]
    }
   ],
   "source": [
    "city_all = set() # создадим справочник городов\n",
    "for x in df['City']:\n",
    "        city_all.add(x) \n",
    "print(city_all)"
   ]
  },
  {
   "cell_type": "code",
   "execution_count": 49,
   "metadata": {},
   "outputs": [],
   "source": [
    "def find_city(cell): # функция проставления наличие или отсутствия элемента в ячейке\n",
    "    if x in cell:\n",
    "        return 1\n",
    "    return 0"
   ]
  },
  {
   "cell_type": "code",
   "execution_count": 50,
   "metadata": {},
   "outputs": [],
   "source": [
    "for x in city_all:\n",
    "    df[x] = df['City'].apply(find_city) # создали столбцы с названиями городов, в которых находятся рестораны"
   ]
  },
  {
   "cell_type": "code",
   "execution_count": 51,
   "metadata": {},
   "outputs": [
    {
     "data": {
      "text/html": [
       "<div>\n",
       "<style scoped>\n",
       "    .dataframe tbody tr th:only-of-type {\n",
       "        vertical-align: middle;\n",
       "    }\n",
       "\n",
       "    .dataframe tbody tr th {\n",
       "        vertical-align: top;\n",
       "    }\n",
       "\n",
       "    .dataframe thead th {\n",
       "        text-align: right;\n",
       "    }\n",
       "</style>\n",
       "<table border=\"1\" class=\"dataframe\">\n",
       "  <thead>\n",
       "    <tr style=\"text-align: right;\">\n",
       "      <th></th>\n",
       "      <th>Restaurant_id</th>\n",
       "      <th>City</th>\n",
       "      <th>Cuisine Style</th>\n",
       "      <th>Ranking</th>\n",
       "      <th>Rating</th>\n",
       "      <th>Price Range</th>\n",
       "      <th>Number of Reviews</th>\n",
       "      <th>Reviews</th>\n",
       "      <th>URL_TA</th>\n",
       "      <th>ID_TA</th>\n",
       "      <th>...</th>\n",
       "      <th>Barcelona</th>\n",
       "      <th>Warsaw</th>\n",
       "      <th>Amsterdam</th>\n",
       "      <th>Munich</th>\n",
       "      <th>Ljubljana</th>\n",
       "      <th>Athens</th>\n",
       "      <th>Brussels</th>\n",
       "      <th>Luxembourg</th>\n",
       "      <th>Milan</th>\n",
       "      <th>Vienna</th>\n",
       "    </tr>\n",
       "  </thead>\n",
       "  <tbody>\n",
       "    <tr>\n",
       "      <th>0</th>\n",
       "      <td>id_5569</td>\n",
       "      <td>Paris</td>\n",
       "      <td>['European', 'French', 'International']</td>\n",
       "      <td>5570.0</td>\n",
       "      <td>3.5</td>\n",
       "      <td>$$ - $$$</td>\n",
       "      <td>194.0</td>\n",
       "      <td>[['good food at your doorstep', 'a good hotel ...</td>\n",
       "      <td>/Restaurant_Review-g187147-d1912643-Reviews-R_...</td>\n",
       "      <td>d1912643</td>\n",
       "      <td>...</td>\n",
       "      <td>0</td>\n",
       "      <td>0</td>\n",
       "      <td>0</td>\n",
       "      <td>0</td>\n",
       "      <td>0</td>\n",
       "      <td>0</td>\n",
       "      <td>0</td>\n",
       "      <td>0</td>\n",
       "      <td>0</td>\n",
       "      <td>0</td>\n",
       "    </tr>\n",
       "    <tr>\n",
       "      <th>1</th>\n",
       "      <td>id_1535</td>\n",
       "      <td>Stockholm</td>\n",
       "      <td>No_answer</td>\n",
       "      <td>1537.0</td>\n",
       "      <td>4.0</td>\n",
       "      <td>$$ - $$$</td>\n",
       "      <td>10.0</td>\n",
       "      <td>[['unique cuisine', 'delicious nepalese food']...</td>\n",
       "      <td>/Restaurant_Review-g189852-d7992032-Reviews-Bu...</td>\n",
       "      <td>d7992032</td>\n",
       "      <td>...</td>\n",
       "      <td>0</td>\n",
       "      <td>0</td>\n",
       "      <td>0</td>\n",
       "      <td>0</td>\n",
       "      <td>0</td>\n",
       "      <td>0</td>\n",
       "      <td>0</td>\n",
       "      <td>0</td>\n",
       "      <td>0</td>\n",
       "      <td>0</td>\n",
       "    </tr>\n",
       "  </tbody>\n",
       "</table>\n",
       "<p>2 rows × 50 columns</p>\n",
       "</div>"
      ],
      "text/plain": [
       "  Restaurant_id       City                            Cuisine Style  Ranking  \\\n",
       "0       id_5569      Paris  ['European', 'French', 'International']   5570.0   \n",
       "1       id_1535  Stockholm                                No_answer   1537.0   \n",
       "\n",
       "   Rating Price Range  Number of Reviews  \\\n",
       "0     3.5    $$ - $$$              194.0   \n",
       "1     4.0    $$ - $$$               10.0   \n",
       "\n",
       "                                             Reviews  \\\n",
       "0  [['good food at your doorstep', 'a good hotel ...   \n",
       "1  [['unique cuisine', 'delicious nepalese food']...   \n",
       "\n",
       "                                              URL_TA     ID_TA  ...  \\\n",
       "0  /Restaurant_Review-g187147-d1912643-Reviews-R_...  d1912643  ...   \n",
       "1  /Restaurant_Review-g189852-d7992032-Reviews-Bu...  d7992032  ...   \n",
       "\n",
       "   Barcelona  Warsaw  Amsterdam Munich Ljubljana Athens Brussels  Luxembourg  \\\n",
       "0          0       0          0      0         0      0        0           0   \n",
       "1          0       0          0      0         0      0        0           0   \n",
       "\n",
       "   Milan  Vienna  \n",
       "0      0       0  \n",
       "1      0       0  \n",
       "\n",
       "[2 rows x 50 columns]"
      ]
     },
     "execution_count": 51,
     "metadata": {},
     "output_type": "execute_result"
    }
   ],
   "source": [
    "df.head(2)"
   ]
  },
  {
   "cell_type": "markdown",
   "metadata": {},
   "source": [
    "# 7. Численность населения городов"
   ]
  },
  {
   "cell_type": "markdown",
   "metadata": {},
   "source": [
    "предполагаю, что численность населения влияет на рейтинг ресторана. По словарю подставим численность населения городов в дата сете"
   ]
  },
  {
   "cell_type": "code",
   "execution_count": 52,
   "metadata": {},
   "outputs": [],
   "source": [
    "Сity_pop_dict = {'London' : 8908, 'Paris' : 2206, 'Madrid' : 3223, 'Barcelona' : 1620, \n",
    "                        'Berlin' : 6010, 'Milan' : 1366, 'Rome' : 2872, 'Prague' : 1308, \n",
    "                        'Lisbon' : 506, 'Vienna' : 1888, 'Amsterdam' : 860, 'Brussels' : 179, \n",
    "                        'Hamburg' : 1841, 'Munich' : 1457, 'Lyon' : 506, 'Stockholm' : 961, \n",
    "                        'Budapest' : 1752, 'Warsaw' : 1764, 'Dublin' : 553, \n",
    "                        'Copenhagen' : 616, 'Athens' : 665, 'Edinburgh' : 513, \n",
    "                        'Zurich' : 415, 'Oporto' : 240, 'Geneva' : 201, 'Krakow' : 769, \n",
    "                        'Oslo' : 681, 'Helsinki' : 643, 'Bratislava' : 426, \n",
    "                        'Luxembourg' : 119, 'Ljubljana' : 284}"
   ]
  },
  {
   "cell_type": "code",
   "execution_count": 53,
   "metadata": {},
   "outputs": [],
   "source": [
    "df['Сity_pop'] = df.apply(lambda row: Сity_pop_dict[row['City']], axis = 1)"
   ]
  },
  {
   "cell_type": "code",
   "execution_count": 54,
   "metadata": {},
   "outputs": [
    {
     "data": {
      "text/plain": [
       "<matplotlib.axes._subplots.AxesSubplot at 0xd426db0288>"
      ]
     },
     "execution_count": 54,
     "metadata": {},
     "output_type": "execute_result"
    },
    {
     "data": {
      "image/png": "[encoded data removed]",
      "text/plain": [
       "<Figure size 432x288 with 1 Axes>"
      ]
     },
     "metadata": {
      "needs_background": "light"
     },
     "output_type": "display_data"
    }
   ],
   "source": [
    "df['Сity_pop'].hist()"
   ]
  },
  {
   "cell_type": "markdown",
   "metadata": {},
   "source": [
    "# 8. Number of Reviews\n",
    "количество отзывов о ресторане"
   ]
  },
  {
   "cell_type": "code",
   "execution_count": 55,
   "metadata": {},
   "outputs": [
    {
     "data": {
      "text/plain": [
       "0    194.0\n",
       "1     10.0\n",
       "2    688.0\n",
       "3      3.0\n",
       "4     84.0\n",
       "5      2.0\n",
       "6     50.0\n",
       "7      9.0\n",
       "8      NaN\n",
       "9     55.0\n",
       "Name: Number of Reviews, dtype: float64"
      ]
     },
     "execution_count": 55,
     "metadata": {},
     "output_type": "execute_result"
    }
   ],
   "source": [
    "df['Number of Reviews'].head(10)"
   ]
  },
  {
   "cell_type": "code",
   "execution_count": 56,
   "metadata": {},
   "outputs": [
    {
     "data": {
      "text/plain": [
       "2.0       1916\n",
       "3.0       1636\n",
       "4.0       1370\n",
       "5.0       1181\n",
       "6.0       1018\n",
       "          ... \n",
       "2141.0       1\n",
       "920.0        1\n",
       "1404.0       1\n",
       "979.0        1\n",
       "1698.0       1\n",
       "Name: Number of Reviews, Length: 1459, dtype: int64"
      ]
     },
     "execution_count": 56,
     "metadata": {},
     "output_type": "execute_result"
    }
   ],
   "source": [
    "df['Number of Reviews'].value_counts()"
   ]
  },
  {
   "cell_type": "code",
   "execution_count": 57,
   "metadata": {},
   "outputs": [
    {
     "data": {
      "text/plain": [
       "count    37457.000000\n",
       "mean       124.825480\n",
       "std        295.666352\n",
       "min          2.000000\n",
       "25%          9.000000\n",
       "50%         33.000000\n",
       "75%        115.000000\n",
       "max       9660.000000\n",
       "Name: Number of Reviews, dtype: float64"
      ]
     },
     "execution_count": 57,
     "metadata": {},
     "output_type": "execute_result"
    },
    {
     "data": {
      "image/png": "[encoded data removed]",
      "text/plain": [
       "<Figure size 432x288 with 1 Axes>"
      ]
     },
     "metadata": {
      "needs_background": "light"
     },
     "output_type": "display_data"
    }
   ],
   "source": [
    "df['Number of Reviews'].hist()\n",
    "df['Number of Reviews'].describe()"
   ]
  },
  {
   "cell_type": "markdown",
   "metadata": {},
   "source": [
    "посчитаем медианное число отзывов в городе"
   ]
  },
  {
   "cell_type": "code",
   "execution_count": 58,
   "metadata": {},
   "outputs": [
    {
     "data": {
      "text/plain": [
       "City\n",
       "Rome          117.0\n",
       "Edinburgh      73.0\n",
       "Milan          50.0\n",
       "Amsterdam      47.0\n",
       "Paris          46.0\n",
       "Dublin         44.0\n",
       "Oporto         39.5\n",
       "London         38.0\n",
       "Copenhagen     35.0\n",
       "Luxembourg     34.0\n",
       "Barcelona      34.0\n",
       "Zurich         32.0\n",
       "Lyon           31.0\n",
       "Geneva         31.0\n",
       "Lisbon         31.0\n",
       "Munich         29.0\n",
       "Brussels       28.0\n",
       "Oslo           28.0\n",
       "Krakow         28.0\n",
       "Madrid         27.0\n",
       "Budapest       24.0\n",
       "Vienna         22.0\n",
       "Helsinki       20.0\n",
       "Prague         20.0\n",
       "Athens         20.0\n",
       "Stockholm      19.0\n",
       "Ljubljana      18.5\n",
       "Warsaw         17.0\n",
       "Hamburg        16.0\n",
       "Berlin         16.0\n",
       "Bratislava     10.0\n",
       "Name: Number of Reviews, dtype: float64"
      ]
     },
     "execution_count": 58,
     "metadata": {},
     "output_type": "execute_result"
    }
   ],
   "source": [
    "Reviews_in_city_median = df.groupby(['City'])['Number of Reviews'].median().sort_values(ascending=False)\n",
    "Reviews_in_city_median"
   ]
  },
  {
   "cell_type": "markdown",
   "metadata": {},
   "source": [
    "заполним пропуски медианным значением по городу"
   ]
  },
  {
   "cell_type": "code",
   "execution_count": 59,
   "metadata": {},
   "outputs": [],
   "source": [
    "df['Number of Reviews'] = df['Number of Reviews'].fillna(df['City'].apply(lambda x: Reviews_in_city_median[x]))"
   ]
  },
  {
   "cell_type": "code",
   "execution_count": 60,
   "metadata": {},
   "outputs": [
    {
     "data": {
      "text/plain": [
       "0    194.0\n",
       "1     10.0\n",
       "2    688.0\n",
       "3      3.0\n",
       "4     84.0\n",
       "5      2.0\n",
       "6     50.0\n",
       "7      9.0\n",
       "8     22.0\n",
       "9     55.0\n",
       "Name: Number of Reviews, dtype: float64"
      ]
     },
     "execution_count": 60,
     "metadata": {},
     "output_type": "execute_result"
    }
   ],
   "source": [
    "df['Number of Reviews'].head(10)"
   ]
  },
  {
   "cell_type": "code",
   "execution_count": 61,
   "metadata": {},
   "outputs": [
    {
     "data": {
      "text/plain": [
       "count    40000.000000\n",
       "mean       118.952325\n",
       "std        287.032060\n",
       "min          2.000000\n",
       "25%         10.000000\n",
       "50%         32.000000\n",
       "75%        106.000000\n",
       "max       9660.000000\n",
       "Name: Number of Reviews, dtype: float64"
      ]
     },
     "execution_count": 61,
     "metadata": {},
     "output_type": "execute_result"
    }
   ],
   "source": [
    "df['Number of Reviews'] = df['Number of Reviews'].astype(int)\n",
    "df['Number of Reviews'].describe()"
   ]
  },
  {
   "cell_type": "code",
   "execution_count": 62,
   "metadata": {},
   "outputs": [
    {
     "name": "stdout",
     "output_type": "stream",
     "text": [
      "25-й перцентиль: 10.0, 75-й перцентиль: 106.0, IQR: 96.0,  Границы выбросов: [-134.0, 250.0].\n"
     ]
    }
   ],
   "source": [
    "median = df['Number of Reviews'].median()\n",
    "IQR = df['Number of Reviews'].quantile(0.75) - df['Number of Reviews'].quantile(0.25)\n",
    "perc25 = df['Number of Reviews'].quantile(0.25)\n",
    "perc75 = df['Number of Reviews'].quantile(0.75)\n",
    "print('25-й перцентиль: {},'.format(perc25), '75-й перцентиль: {},'.format(perc75)\n",
    "      , \"IQR: {}, \".format(IQR),\"Границы выбросов: [{f}, {l}].\".format(f = perc25 - 1.5*IQR, l = perc75 + 1.5*IQR))"
   ]
  },
  {
   "cell_type": "code",
   "execution_count": 63,
   "metadata": {},
   "outputs": [
    {
     "data": {
      "text/plain": [
       "3968"
      ]
     },
     "execution_count": 63,
     "metadata": {},
     "output_type": "execute_result"
    }
   ],
   "source": [
    "(df['Number of Reviews'] > 300).sum()"
   ]
  },
  {
   "cell_type": "markdown",
   "metadata": {},
   "source": [
    "число выбросов большое. Не совсем понимаю методогически, что делать с этим. Пока оставляю"
   ]
  },
  {
   "cell_type": "markdown",
   "metadata": {},
   "source": [
    "# 9.Количество отзывов о ресторанах в городе"
   ]
  },
  {
   "cell_type": "markdown",
   "metadata": {},
   "source": [
    "посчитаем количество отзывов по городам. Чем больше город, тем больше потребителей"
   ]
  },
  {
   "cell_type": "code",
   "execution_count": 64,
   "metadata": {},
   "outputs": [
    {
     "data": {
      "text/plain": [
       "City\n",
       "London        759401\n",
       "Rome          590886\n",
       "Paris         571748\n",
       "Milan         357787\n",
       "Barcelona     343924\n",
       "Madrid        296866\n",
       "Prague        162225\n",
       "Lisbon        156340\n",
       "Amsterdam     154259\n",
       "Edinburgh     135634\n",
       "Berlin        133050\n",
       "Budapest      120779\n",
       "Dublin        100959\n",
       "Vienna         91585\n",
       "Brussels       90037\n",
       "Lyon           74419\n",
       "Munich         69186\n",
       "Oporto         66344\n",
       "Stockholm      60253\n",
       "Athens         58819\n",
       "Copenhagen     57758\n",
       "Krakow         50819\n",
       "Warsaw         43444\n",
       "Hamburg        41792\n",
       "Zurich         40223\n",
       "Oslo           35277\n",
       "Geneva         28878\n",
       "Helsinki       21732\n",
       "Luxembourg     16626\n",
       "Bratislava     14127\n",
       "Ljubljana      12916\n",
       "Name: Number of Reviews, dtype: int32"
      ]
     },
     "execution_count": 64,
     "metadata": {},
     "output_type": "execute_result"
    }
   ],
   "source": [
    "Reviews_in_city_count = df.groupby(['City'])['Number of Reviews'].sum().sort_values(ascending=False)\n",
    "Reviews_in_city_count"
   ]
  },
  {
   "cell_type": "code",
   "execution_count": 65,
   "metadata": {},
   "outputs": [],
   "source": [
    "df['Reviews_in_city'] = df['City'].apply(lambda x: Reviews_in_city_count[x])"
   ]
  },
  {
   "cell_type": "code",
   "execution_count": 66,
   "metadata": {},
   "outputs": [
    {
     "data": {
      "text/plain": [
       "0    571748\n",
       "1     60253\n",
       "2    759401\n",
       "3    133050\n",
       "4     69186\n",
       "Name: Reviews_in_city, dtype: int64"
      ]
     },
     "execution_count": 66,
     "metadata": {},
     "output_type": "execute_result"
    }
   ],
   "source": [
    "df['Reviews_in_city'].head()"
   ]
  },
  {
   "cell_type": "markdown",
   "metadata": {},
   "source": [
    "# 10.Ранг ресторана относительно отзывов"
   ]
  },
  {
   "cell_type": "markdown",
   "metadata": {},
   "source": [
    "делим рейтинг по городу на количество отзывов по городу. Получаем взвешенную оценку рейтинга по отзывам"
   ]
  },
  {
   "cell_type": "code",
   "execution_count": 67,
   "metadata": {},
   "outputs": [],
   "source": [
    "df['Relative_rank_Reviews'] = df['Ranking'] / df['Reviews_in_city']"
   ]
  },
  {
   "cell_type": "code",
   "execution_count": 68,
   "metadata": {},
   "outputs": [
    {
     "data": {
      "text/plain": [
       "0        0.009742\n",
       "1        0.025509\n",
       "2        0.000465\n",
       "3        0.025990\n",
       "4        0.008976\n",
       "           ...   \n",
       "39995    0.001397\n",
       "39996    0.011091\n",
       "39997    0.027418\n",
       "39998    0.014755\n",
       "39999    0.013491\n",
       "Name: Relative_rank_Reviews, Length: 40000, dtype: float64"
      ]
     },
     "execution_count": 68,
     "metadata": {},
     "output_type": "execute_result"
    }
   ],
   "source": [
    "df['Relative_rank_Reviews']"
   ]
  },
  {
   "cell_type": "markdown",
   "metadata": {},
   "source": [
    "# 11.ID_TA\n",
    "идентификатор ресторана в базе данных TripAdvisor"
   ]
  },
  {
   "cell_type": "code",
   "execution_count": 69,
   "metadata": {},
   "outputs": [
    {
     "data": {
      "text/plain": [
       "0    d1912643\n",
       "1    d7992032\n",
       "2    d8632781\n",
       "3    d1358776\n",
       "4    d6864963\n",
       "Name: ID_TA, dtype: object"
      ]
     },
     "execution_count": 69,
     "metadata": {},
     "output_type": "execute_result"
    }
   ],
   "source": [
    "df['ID_TA'].head()"
   ]
  },
  {
   "cell_type": "markdown",
   "metadata": {},
   "source": [
    "для использования в модели уберем префикс 'd' чтобы остались только числовые значения"
   ]
  },
  {
   "cell_type": "code",
   "execution_count": 70,
   "metadata": {},
   "outputs": [],
   "source": [
    "df['ID_TA'] = df['ID_TA'].apply(lambda x: int(x[1:]))"
   ]
  },
  {
   "cell_type": "code",
   "execution_count": 71,
   "metadata": {},
   "outputs": [
    {
     "data": {
      "text/plain": [
       "0    1912643\n",
       "1    7992032\n",
       "2    8632781\n",
       "3    1358776\n",
       "4    6864963\n",
       "Name: ID_TA, dtype: int64"
      ]
     },
     "execution_count": 71,
     "metadata": {},
     "output_type": "execute_result"
    }
   ],
   "source": [
    "df['ID_TA'].head()"
   ]
  },
  {
   "cell_type": "markdown",
   "metadata": {},
   "source": [
    "# 12.Ranking\n",
    "место, которое занимает данный ресторан среди всех ресторанов своего города"
   ]
  },
  {
   "cell_type": "code",
   "execution_count": 72,
   "metadata": {},
   "outputs": [
    {
     "data": {
      "text/plain": [
       "count    40000.000000\n",
       "mean      3676.028525\n",
       "std       3708.749567\n",
       "min          1.000000\n",
       "25%        973.000000\n",
       "50%       2285.000000\n",
       "75%       5260.000000\n",
       "max      16444.000000\n",
       "Name: Ranking, dtype: float64"
      ]
     },
     "execution_count": 72,
     "metadata": {},
     "output_type": "execute_result"
    },
    {
     "data": {
      "image/png": "[encoded data removed]",
      "text/plain": [
       "<Figure size 432x288 with 1 Axes>"
      ]
     },
     "metadata": {
      "needs_background": "light"
     },
     "output_type": "display_data"
    }
   ],
   "source": [
    "df['Ranking'].hist()\n",
    "df['Ranking'].describe()"
   ]
  },
  {
   "cell_type": "markdown",
   "metadata": {},
   "source": [
    "чем выше рейтинг, тем меньше ресторанов. Посмотрим на примере 10 городов распределение Ranking"
   ]
  },
  {
   "cell_type": "code",
   "execution_count": 73,
   "metadata": {},
   "outputs": [
    {
     "data": {
      "image/png": "[encoded data removed]",
      "text/plain": [
       "<Figure size 432x288 with 1 Axes>"
      ]
     },
     "metadata": {
      "needs_background": "light"
     },
     "output_type": "display_data"
    }
   ],
   "source": [
    "for x in (df['City'].value_counts())[0:10].index:\n",
    "    df['Ranking'][df['City'] == x].hist(bins=100)\n",
    "plt.show()"
   ]
  },
  {
   "cell_type": "code",
   "execution_count": 74,
   "metadata": {},
   "outputs": [],
   "source": [
    "# чем больше город, тем больше Ranking\n",
    "# отнормируем критерий Ranking по городам City\n",
    "mean_Ranking_in_City = df.groupby(['City'])['Ranking'].mean() # средний ранг в городе\n",
    "count_Restorant_in_City = df['City'].value_counts(ascending=False) # число ресторанов в городе\n",
    "df['mean_Ranking_in_City'] = df['City'].apply(lambda x: mean_Ranking_in_City[x])\n",
    "df['count_Restorant_in_City'] = df['City'].apply(lambda x: count_Restorant_in_City[x])\n",
    "df['norm_Ranking_in_Rest_in_City'] = (df['Ranking'] - df['mean_Ranking_in_City']) / df['count_Restorant_in_City']"
   ]
  },
  {
   "cell_type": "markdown",
   "metadata": {},
   "source": [
    "# 13.URL_TA\n",
    "URL страницы ресторана на TripAdvosor"
   ]
  },
  {
   "cell_type": "code",
   "execution_count": 76,
   "metadata": {},
   "outputs": [
    {
     "data": {
      "text/plain": [
       "0    /Restaurant_Review-g187147-d1912643-Reviews-R_...\n",
       "1    /Restaurant_Review-g189852-d7992032-Reviews-Bu...\n",
       "2    /Restaurant_Review-g186338-d8632781-Reviews-RO...\n",
       "3    /Restaurant_Review-g187323-d1358776-Reviews-Es...\n",
       "4    /Restaurant_Review-g187309-d6864963-Reviews-Au...\n",
       "Name: URL_TA, dtype: object"
      ]
     },
     "execution_count": 76,
     "metadata": {},
     "output_type": "execute_result"
    }
   ],
   "source": [
    "df['URL_TA'].head()"
   ]
  },
  {
   "cell_type": "markdown",
   "metadata": {},
   "source": [
    "g186338 - после рассмотрения - это код города или страны ресторана. Дубль от информации, которая уже есть.\n",
    "d779921 - дублирование ID_TA.\n",
    "Не приносит доп информацию"
   ]
  },
  {
   "cell_type": "markdown",
   "metadata": {},
   "source": [
    "# ПОСТРОИМ МАТРИЦУ КОРРЕЛЯЦИИ"
   ]
  },
  {
   "cell_type": "code",
   "execution_count": 77,
   "metadata": {},
   "outputs": [
    {
     "data": {
      "text/plain": [
       "<matplotlib.axes._subplots.AxesSubplot at 0xd426d32388>"
      ]
     },
     "execution_count": 77,
     "metadata": {},
     "output_type": "execute_result"
    },
    {
     "data": {
      "image/png": "[encoded data removed]",
      "text/plain": [
       "<Figure size 1080x720 with 2 Axes>"
      ]
     },
     "metadata": {
      "needs_background": "light"
     },
     "output_type": "display_data"
    }
   ],
   "source": [
    "plt.rcParams['figure.figsize'] = (15, 10)\n",
    "sns.heatmap(df[['mean_Ranking_in_City','count_Restorant_in_City','Restaurant_id', 'Ranking', 'Rating', 'Number of Reviews', 'ID_TA',\n",
    "       'Restaurant_id_new', 'number_cuisine', 'price_new', 'Timedelta_new',\n",
    "       'reviews_sense', 'Сity_pop', 'Reviews_in_city',\n",
    "       'Relative_rank_Reviews', 'norm_Ranking_in_Rest_in_City']].corr(), annot = True, fmt='.1g')"
   ]
  },
  {
   "cell_type": "markdown",
   "metadata": {},
   "source": [
    "Есть вопросы по применимости матрицы корреляции. Например, если убрать Restaurant_id_new из модели (хотя корреляция равна 1 к Ranking), то MAE увеличивается, хотя по логике должен уменьшаться.\n",
    "Убираем 'mean_Ranking_in_City' и 'count_Restorant_in_City' с высокой корреляции"
   ]
  },
  {
   "cell_type": "markdown",
   "metadata": {},
   "source": [
    "# Убираем не информативные столбцы"
   ]
  },
  {
   "cell_type": "code",
   "execution_count": 78,
   "metadata": {},
   "outputs": [],
   "source": [
    "df = df.drop(['mean_Ranking_in_City','count_Restorant_in_City','Timedelta','City','Cuisine Style','Price Range','Reviews','URL_TA','Dates of Reviews','Date_last','Date_first'], axis = 1)"
   ]
  },
  {
   "cell_type": "code",
   "execution_count": 79,
   "metadata": {},
   "outputs": [
    {
     "name": "stdout",
     "output_type": "stream",
     "text": [
      "<class 'pandas.core.frame.DataFrame'>\n",
      "RangeIndex: 40000 entries, 0 to 39999\n",
      "Data columns (total 45 columns):\n",
      " #   Column                        Non-Null Count  Dtype  \n",
      "---  ------                        --------------  -----  \n",
      " 0   Restaurant_id                 40000 non-null  object \n",
      " 1   Ranking                       40000 non-null  float64\n",
      " 2   Rating                        40000 non-null  float64\n",
      " 3   Number of Reviews             40000 non-null  int32  \n",
      " 4   ID_TA                         40000 non-null  int64  \n",
      " 5   Restaurant_id_new             40000 non-null  float64\n",
      " 6   number_cuisine                40000 non-null  int64  \n",
      " 7   price_new                     40000 non-null  int32  \n",
      " 8   Timedelta_new                 40000 non-null  float64\n",
      " 9   reviews_sense                 40000 non-null  int64  \n",
      " 10  Geneva                        40000 non-null  int64  \n",
      " 11  Hamburg                       40000 non-null  int64  \n",
      " 12  Berlin                        40000 non-null  int64  \n",
      " 13  Lyon                          40000 non-null  int64  \n",
      " 14  Copenhagen                    40000 non-null  int64  \n",
      " 15  Krakow                        40000 non-null  int64  \n",
      " 16  Madrid                        40000 non-null  int64  \n",
      " 17  Oslo                          40000 non-null  int64  \n",
      " 18  Dublin                        40000 non-null  int64  \n",
      " 19  London                        40000 non-null  int64  \n",
      " 20  Paris                         40000 non-null  int64  \n",
      " 21  Bratislava                    40000 non-null  int64  \n",
      " 22  Budapest                      40000 non-null  int64  \n",
      " 23  Rome                          40000 non-null  int64  \n",
      " 24  Stockholm                     40000 non-null  int64  \n",
      " 25  Zurich                        40000 non-null  int64  \n",
      " 26  Oporto                        40000 non-null  int64  \n",
      " 27  Edinburgh                     40000 non-null  int64  \n",
      " 28  Helsinki                      40000 non-null  int64  \n",
      " 29  Lisbon                        40000 non-null  int64  \n",
      " 30  Prague                        40000 non-null  int64  \n",
      " 31  Barcelona                     40000 non-null  int64  \n",
      " 32  Warsaw                        40000 non-null  int64  \n",
      " 33  Amsterdam                     40000 non-null  int64  \n",
      " 34  Munich                        40000 non-null  int64  \n",
      " 35  Ljubljana                     40000 non-null  int64  \n",
      " 36  Athens                        40000 non-null  int64  \n",
      " 37  Brussels                      40000 non-null  int64  \n",
      " 38  Luxembourg                    40000 non-null  int64  \n",
      " 39  Milan                         40000 non-null  int64  \n",
      " 40  Vienna                        40000 non-null  int64  \n",
      " 41  Сity_pop                      40000 non-null  int64  \n",
      " 42  Reviews_in_city               40000 non-null  int64  \n",
      " 43  Relative_rank_Reviews         40000 non-null  float64\n",
      " 44  norm_Ranking_in_Rest_in_City  40000 non-null  float64\n",
      "dtypes: float64(6), int32(2), int64(36), object(1)\n",
      "memory usage: 13.4+ MB\n"
     ]
    }
   ],
   "source": [
    "df.info()"
   ]
  },
  {
   "cell_type": "markdown",
   "metadata": {},
   "source": [
    "# Разбиваем датафрейм на части, необходимые для обучения и тестирования модели"
   ]
  },
  {
   "cell_type": "code",
   "execution_count": 80,
   "metadata": {},
   "outputs": [],
   "source": [
    "# Х - данные с информацией о ресторанах, у - целевая переменная (рейтинги ресторанов)\n",
    "X = df.drop(['Restaurant_id', 'Rating'], axis = 1)\n",
    "y = df['Rating']"
   ]
  },
  {
   "cell_type": "code",
   "execution_count": 81,
   "metadata": {},
   "outputs": [],
   "source": [
    "# Загружаем специальный инструмент для разбивки:\n",
    "from sklearn.model_selection import train_test_split"
   ]
  },
  {
   "cell_type": "code",
   "execution_count": 82,
   "metadata": {},
   "outputs": [],
   "source": [
    "# Наборы данных с меткой \"train\" будут использоваться для обучения модели, \"test\" - для тестирования.\n",
    "# Для тестирования мы будем использовать 25% от исходного датасета.\n",
    "X_train, X_test, y_train, y_test = train_test_split(X, y, test_size=0.25)"
   ]
  },
  {
   "cell_type": "markdown",
   "metadata": {},
   "source": [
    "# Создаём, обучаем и тестируем модель"
   ]
  },
  {
   "cell_type": "code",
   "execution_count": 83,
   "metadata": {},
   "outputs": [],
   "source": [
    "# Импортируем необходимые библиотеки:\n",
    "from sklearn.ensemble import RandomForestRegressor # инструмент для создания и обучения модели\n",
    "from sklearn import metrics # инструменты для оценки точности модели"
   ]
  },
  {
   "cell_type": "code",
   "execution_count": 84,
   "metadata": {},
   "outputs": [],
   "source": [
    "# Создаём модель\n",
    "regr = RandomForestRegressor(n_estimators=100)\n",
    "\n",
    "# Обучаем модель на тестовом наборе данных\n",
    "regr.fit(X_train, y_train)\n",
    "\n",
    "# Используем обученную модель для предсказания рейтинга ресторанов в тестовой выборке.\n",
    "# Предсказанные значения записываем в переменную y_pred\n",
    "y_pred = regr.predict(X_test)"
   ]
  },
  {
   "cell_type": "code",
   "execution_count": 85,
   "metadata": {},
   "outputs": [
    {
     "name": "stdout",
     "output_type": "stream",
     "text": [
      "MAE: 0.202206\n"
     ]
    }
   ],
   "source": [
    "# Сравниваем предсказанные значения (y_pred) с реальными (y_test), и смотрим насколько они в среднем отличаются\n",
    "# Метрика называется Mean Absolute Error (MAE) и показывает среднее отклонение предсказанных значений от фактических.\n",
    "print('MAE:', metrics.mean_absolute_error(y_test, y_pred))"
   ]
  },
  {
   "cell_type": "code",
   "execution_count": 86,
   "metadata": {},
   "outputs": [
    {
     "data": {
      "text/plain": [
       "<matplotlib.axes._subplots.AxesSubplot at 0xd42d13ef48>"
      ]
     },
     "execution_count": 86,
     "metadata": {},
     "output_type": "execute_result"
    },
    {
     "data": {
      "image/png": "[encoded data removed]",
      "text/plain": [
       "<Figure size 864x720 with 1 Axes>"
      ]
     },
     "metadata": {
      "needs_background": "light"
     },
     "output_type": "display_data"
    }
   ],
   "source": [
    "plt.rcParams['figure.figsize'] = (12,10)\n",
    "feat_importances = pd.Series(regr.feature_importances_, index=X.columns)\n",
    "feat_importances.nlargest(20).plot(kind='barh')"
   ]
  },
  {
   "cell_type": "markdown",
   "metadata": {},
   "source": [
    "# Выводы"
   ]
  },
  {
   "cell_type": "markdown",
   "metadata": {},
   "source": [
    "1.Рассмотрены входящие в изначальный датасет данные. Часть исключена по причине не информативности.  \n",
    "2.Из имеющихся данных достал новые данные: тональность в отзывах, дельта в дате отзывов.  \n",
    "3.Заполнены пропуски в данных.  \n",
    "4.Добавлены внешние данные: численность населения.  \n",
    "5.Из полученных данных определили параметры, которые больше влияют на рейтинг: ранг отноримиронный по городу, число отзывово, взвешенная оценка рейтинга по отзывам.  \n",
    "\n",
    "По итогам многих итераций оставлены только метрики в модели. Многие убраны.\n"
   ]
  },
  {
   "cell_type": "markdown",
   "metadata": {},
   "source": [
    "# Вопросы"
   ]
  },
  {
   "cell_type": "markdown",
   "metadata": {},
   "source": [
    "1.Всё же что делать с выбросами.   \n",
    "2.Если убрать Restaurant_id_new из модели (хотя корреляция равна 1 к Ranking), то MAE увеличивается, хотя по логике должен уменьшаться.\n",
    "3.Имеется ли механиз подбора наилучшей замены пустот значениями: средний, медианой и тд. Вопрос применительно к количеству отзывов. "
   ]
  }
 ],
 "metadata": {
  "kernelspec": {
   "display_name": "Python 3",
   "language": "python",
   "name": "python3"
  },
  "language_info": {
   "codemirror_mode": {
    "name": "ipython",
    "version": 3
   },
   "file_extension": ".py",
   "mimetype": "text/x-python",
   "name": "python",
   "nbconvert_exporter": "python",
   "pygments_lexer": "ipython3",
   "version": "3.7.6"
  }
 },
 "nbformat": 4,
 "nbformat_minor": 2
}
